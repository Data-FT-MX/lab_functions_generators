{
 "cells": [
  {
   "cell_type": "markdown",
   "id": "f7473ffc",
   "metadata": {},
   "source": [
    "# Programacion Funcional"
   ]
  },
  {
   "cell_type": "code",
   "execution_count": 1,
   "id": "cc424f45",
   "metadata": {},
   "outputs": [
    {
     "name": "stdout",
     "output_type": "stream",
     "text": [
      "4 9\n"
     ]
    }
   ],
   "source": [
    "#Programacion procedimental\n",
    "\n",
    "a=[1,2,3,4]\n",
    "b=[2,4,6,9]\n",
    "for i, j in zip(a,b):\n",
    "    if i%2==0 and j%2==1:\n",
    "        print(i,j)"
   ]
  },
  {
   "cell_type": "code",
   "execution_count": 8,
   "id": "c930404a",
   "metadata": {},
   "outputs": [
    {
     "name": "stdout",
     "output_type": "stream",
     "text": [
      "LETRAS\n"
     ]
    }
   ],
   "source": [
    "def letras():\n",
    "    variable='letras'\n",
    "    count = 0\n",
    "\n",
    "    while count< 20:\n",
    "        variable=variable.upper()\n",
    "        count=20\n",
    "    return variable\n",
    "\n",
    "print(variable)"
   ]
  },
  {
   "cell_type": "code",
   "execution_count": 9,
   "id": "1b279411",
   "metadata": {},
   "outputs": [],
   "source": [
    "def nombre_de_funcion():\n",
    "    print('Hello World')"
   ]
  },
  {
   "cell_type": "code",
   "execution_count": 10,
   "id": "f2f4871a",
   "metadata": {},
   "outputs": [
    {
     "name": "stdout",
     "output_type": "stream",
     "text": [
      "Hello World\n"
     ]
    }
   ],
   "source": [
    "nombre_de_funcion()"
   ]
  },
  {
   "cell_type": "raw",
   "id": "ae346b81",
   "metadata": {},
   "source": [
    "limpieza_de_bd(BD)"
   ]
  },
  {
   "cell_type": "code",
   "execution_count": null,
   "id": "37aef843",
   "metadata": {},
   "outputs": [],
   "source": []
  },
  {
   "cell_type": "markdown",
   "id": "045a9be8",
   "metadata": {},
   "source": [
    "# Namespaces y scope\n"
   ]
  },
  {
   "cell_type": "code",
   "execution_count": 12,
   "id": "0ff6a8f5",
   "metadata": {},
   "outputs": [],
   "source": [
    "esta_es_una_variable_global=10\n",
    "\n",
    "def funcion_prueba():\n",
    "    print(esta_es_una_variable_global)"
   ]
  },
  {
   "cell_type": "code",
   "execution_count": 13,
   "id": "30f676d8",
   "metadata": {},
   "outputs": [
    {
     "name": "stdout",
     "output_type": "stream",
     "text": [
      "10\n"
     ]
    }
   ],
   "source": [
    "funcion_prueba()"
   ]
  },
  {
   "cell_type": "code",
   "execution_count": 15,
   "id": "8bc335b9",
   "metadata": {},
   "outputs": [
    {
     "name": "stdout",
     "output_type": "stream",
     "text": [
      "42 global scope\n",
      "7\n"
     ]
    }
   ],
   "source": [
    "def local():\n",
    "    chuchu= 7\n",
    "    print(chuchu)\n",
    "\n",
    "chuchu=42\n",
    "\n",
    "print(chuchu,'global scope')\n",
    "\n",
    "local()"
   ]
  },
  {
   "cell_type": "code",
   "execution_count": 16,
   "id": "adc72b79",
   "metadata": {},
   "outputs": [
    {
     "name": "stdout",
     "output_type": "stream",
     "text": [
      "42\n"
     ]
    }
   ],
   "source": [
    "numero=42\n",
    "\n",
    "def funcion(x):\n",
    "    print(x)\n",
    "    \n",
    "funcion(numero)\n"
   ]
  },
  {
   "cell_type": "markdown",
   "id": "72f4346e",
   "metadata": {},
   "source": [
    "https://pythontutor.com/visualize"
   ]
  },
  {
   "cell_type": "code",
   "execution_count": 18,
   "id": "7e0de02a",
   "metadata": {},
   "outputs": [
    {
     "name": "stdout",
     "output_type": "stream",
     "text": [
      "[1, 2, 42]\n"
     ]
    }
   ],
   "source": [
    "#procura no hacer esto, modificar variables globales\n",
    "lista=[1,2,3]\n",
    "\n",
    "def funcion(lista):\n",
    "    lista[2]=42\n",
    "    \n",
    "funcion(lista)\n",
    "print(lista)"
   ]
  },
  {
   "cell_type": "code",
   "execution_count": 20,
   "id": "c832ece7",
   "metadata": {},
   "outputs": [
    {
     "name": "stdout",
     "output_type": "stream",
     "text": [
      "2 3 4\n",
      "3 6 7\n"
     ]
    }
   ],
   "source": [
    "def funcion_posicional(a,b,c):\n",
    "    print(a,b,c)\n",
    "    \n",
    "funcion_posicional(2,3,4)\n",
    "funcion_posicional(3,6,7)"
   ]
  },
  {
   "cell_type": "code",
   "execution_count": 21,
   "id": "6e0b2fc9",
   "metadata": {},
   "outputs": [
    {
     "name": "stdout",
     "output_type": "stream",
     "text": [
      "2 4 6\n",
      "10 5 1\n"
     ]
    }
   ],
   "source": [
    "#Keyword arguments\n",
    "\n",
    "def funcion_keywords(a,b,c):\n",
    "    print(a,b,c)\n",
    "    \n",
    "funcion_keywords(a=2,b=4,c=6)\n",
    "\n",
    "funcion_keywords(b=5,c=1,a=10)"
   ]
  },
  {
   "cell_type": "code",
   "execution_count": 27,
   "id": "ae3b5581",
   "metadata": {},
   "outputs": [
    {
     "name": "stdout",
     "output_type": "stream",
     "text": [
      "1 42 30\n",
      "7 3 1\n",
      "4 42 1\n",
      "112 44 99\n"
     ]
    }
   ],
   "source": [
    "def funcion_keywords_2(a, b=42, c=30):\n",
    "    print(a,b,c)\n",
    "    \n",
    "funcion_keywords_2(1)\n",
    "funcion_keywords_2(b=3,a=7,c=1)\n",
    "funcion_keywords_2(4,c=1)\n",
    "funcion_keywords_2(112,44,99)\n"
   ]
  },
  {
   "cell_type": "code",
   "execution_count": null,
   "id": "1938de80",
   "metadata": {},
   "outputs": [],
   "source": [
    "#Argumentos variables\n",
    "def funcion_args(*args):#para enviar un objeto iterable\n",
    "    print(args)\n",
    "    a,b,c,d=args\n",
    "    \n",
    "    print(a+b+c+d)\n",
    "  \n",
    "    \n",
    "valores = (1, 2, 3, 5)\n",
    "\n",
    "funcion_args(*valores)\n",
    "\n",
    "#funcion_args(valores)"
   ]
  },
  {
   "cell_type": "code",
   "execution_count": 36,
   "id": "f233dd30",
   "metadata": {},
   "outputs": [
    {
     "name": "stdout",
     "output_type": "stream",
     "text": [
      "{'a': 1, 'b': 2}\n",
      "{'a': 1, 'b': 2, 'ache': ' '}\n"
     ]
    }
   ],
   "source": [
    "#Keyword-only Arguments\n",
    "\n",
    "def funcion_kwargs(**kwargs):#Dloble * es para desempacar diccionarios\n",
    "    print(kwargs)\n",
    "    \n",
    "diccionario ={'a':1,'b':2}\n",
    "\n",
    "funcion_kwargs(**diccionario)\n",
    "#funcion_kwargs(diccionario) esto marca error\n",
    "\n",
    "funcion_kwargs(a=1, b=2, ache=' ')\n",
    "    "
   ]
  },
  {
   "cell_type": "code",
   "execution_count": 35,
   "id": "8ef38d7f",
   "metadata": {},
   "outputs": [
    {
     "data": {
      "text/plain": [
       "{'llave': 4}"
      ]
     },
     "execution_count": 35,
     "metadata": {},
     "output_type": "execute_result"
    }
   ],
   "source": [
    "dict(llave=4)"
   ]
  },
  {
   "cell_type": "code",
   "execution_count": 37,
   "id": "bc1c7105",
   "metadata": {},
   "outputs": [],
   "source": [
    "def funcion(entero):\n",
    "    print(entero**2)"
   ]
  },
  {
   "cell_type": "code",
   "execution_count": 38,
   "id": "6b3ac725",
   "metadata": {},
   "outputs": [
    {
     "name": "stdout",
     "output_type": "stream",
     "text": [
      "25\n"
     ]
    }
   ],
   "source": [
    "funcion(5)"
   ]
  },
  {
   "cell_type": "code",
   "execution_count": null,
   "id": "6d7013c6",
   "metadata": {},
   "outputs": [],
   "source": []
  }
 ],
 "metadata": {
  "kernelspec": {
   "display_name": "Python 3 (ipykernel)",
   "language": "python",
   "name": "python3"
  },
  "language_info": {
   "codemirror_mode": {
    "name": "ipython",
    "version": 3
   },
   "file_extension": ".py",
   "mimetype": "text/x-python",
   "name": "python",
   "nbconvert_exporter": "python",
   "pygments_lexer": "ipython3",
   "version": "3.9.6"
  }
 },
 "nbformat": 4,
 "nbformat_minor": 5
}
